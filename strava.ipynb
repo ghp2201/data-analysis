{
 "cells": [
  {
   "cell_type": "code",
   "execution_count": 62,
   "metadata": {
    "tags": []
   },
   "outputs": [],
   "source": [
    "import pandas as pd\n",
    "\n",
    "\n",
    "from utils import get_line_average\n",
    "\n",
    "\n",
    "dataframe = pd.read_json('./datasets/bike_rides.json')"
   ]
  },
  {
   "cell_type": "code",
   "execution_count": 65,
   "metadata": {},
   "outputs": [
    {
     "name": "stdout",
     "output_type": "stream",
     "text": [
      "\n",
      "Average mileage: 9.56 Km\n",
      "Average time: 32.85 m:s\n",
      "Average speed: 17.49 Km/h\n",
      "Average top speed: 32.37 Km/h\n",
      "\n"
     ]
    },
    {
     "data": {
      "text/html": [
       "<div>\n",
       "<style scoped>\n",
       "    .dataframe tbody tr th:only-of-type {\n",
       "        vertical-align: middle;\n",
       "    }\n",
       "\n",
       "    .dataframe tbody tr th {\n",
       "        vertical-align: top;\n",
       "    }\n",
       "\n",
       "    .dataframe thead th {\n",
       "        text-align: right;\n",
       "    }\n",
       "</style>\n",
       "<table border=\"1\" class=\"dataframe\">\n",
       "  <thead>\n",
       "    <tr style=\"text-align: right;\">\n",
       "      <th></th>\n",
       "      <th>2020-03-13</th>\n",
       "      <th>2020-04-25</th>\n",
       "      <th>2020-09-05</th>\n",
       "      <th>2020-06-20</th>\n",
       "      <th>2020-06-21</th>\n",
       "      <th>2020-04-07</th>\n",
       "      <th>2020-05-07</th>\n",
       "      <th>2020-07-18</th>\n",
       "      <th>2020-08-27</th>\n",
       "      <th>2020-08-30</th>\n",
       "    </tr>\n",
       "  </thead>\n",
       "  <tbody>\n",
       "    <tr>\n",
       "      <th>mileage</th>\n",
       "      <td>11.14</td>\n",
       "      <td>8.84</td>\n",
       "      <td>7.69</td>\n",
       "      <td>10.46</td>\n",
       "      <td>8.78</td>\n",
       "      <td>11.10</td>\n",
       "      <td>8.78</td>\n",
       "      <td>5.08</td>\n",
       "      <td>14.89</td>\n",
       "      <td>8.85</td>\n",
       "    </tr>\n",
       "    <tr>\n",
       "      <th>time</th>\n",
       "      <td>42.19</td>\n",
       "      <td>26.16</td>\n",
       "      <td>24.57</td>\n",
       "      <td>32.14</td>\n",
       "      <td>35.12</td>\n",
       "      <td>34.09</td>\n",
       "      <td>31.38</td>\n",
       "      <td>20.08</td>\n",
       "      <td>53.48</td>\n",
       "      <td>29.28</td>\n",
       "    </tr>\n",
       "    <tr>\n",
       "      <th>average_speed</th>\n",
       "      <td>15.80</td>\n",
       "      <td>20.20</td>\n",
       "      <td>18.50</td>\n",
       "      <td>19.50</td>\n",
       "      <td>15.00</td>\n",
       "      <td>19.50</td>\n",
       "      <td>16.70</td>\n",
       "      <td>15.10</td>\n",
       "      <td>16.60</td>\n",
       "      <td>18.00</td>\n",
       "    </tr>\n",
       "    <tr>\n",
       "      <th>top_speed</th>\n",
       "      <td>29.50</td>\n",
       "      <td>29.20</td>\n",
       "      <td>29.50</td>\n",
       "      <td>32.40</td>\n",
       "      <td>30.60</td>\n",
       "      <td>30.60</td>\n",
       "      <td>31.70</td>\n",
       "      <td>33.10</td>\n",
       "      <td>40.70</td>\n",
       "      <td>36.40</td>\n",
       "    </tr>\n",
       "  </tbody>\n",
       "</table>\n",
       "</div>"
      ],
      "text/plain": [
       "               2020-03-13  2020-04-25  2020-09-05  2020-06-20  2020-06-21  \\\n",
       "mileage             11.14        8.84        7.69       10.46        8.78   \n",
       "time                42.19       26.16       24.57       32.14       35.12   \n",
       "average_speed       15.80       20.20       18.50       19.50       15.00   \n",
       "top_speed           29.50       29.20       29.50       32.40       30.60   \n",
       "\n",
       "               2020-04-07  2020-05-07  2020-07-18  2020-08-27  2020-08-30  \n",
       "mileage             11.10        8.78        5.08       14.89        8.85  \n",
       "time                34.09       31.38       20.08       53.48       29.28  \n",
       "average_speed       19.50       16.70       15.10       16.60       18.00  \n",
       "top_speed           30.60       31.70       33.10       40.70       36.40  "
      ]
     },
     "execution_count": 65,
     "metadata": {},
     "output_type": "execute_result"
    }
   ],
   "source": [
    "print(f'''\n",
    "Average mileage: {get_line_average(dataframe, 'mileage')} Km\n",
    "Average time: {get_line_average(dataframe, 'time')} m:s\n",
    "Average speed: {get_line_average(dataframe, 'average_speed')} Km/h\n",
    "Average top speed: {get_line_average(dataframe, 'top_speed')} Km/h\n",
    "''')\n",
    "\n",
    "dataframe  # Show the full table"
   ]
  },
  {
   "cell_type": "code",
   "execution_count": 64,
   "metadata": {},
   "outputs": [
    {
     "data": {
      "text/plain": [
       "<AxesSubplot:title={'center':'Full Mileage'}>"
      ]
     },
     "execution_count": 64,
     "metadata": {},
     "output_type": "execute_result"
    },
    {
     "data": {
      "image/png": "[encoded data removed]",
      "text/plain": [
       "<Figure size 432x288 with 1 Axes>"
      ]
     },
     "metadata": {
      "needs_background": "light"
     },
     "output_type": "display_data"
    }
   ],
   "source": [
    "data.loc['mileage'].plot.bar(title=\"Full Mileage\")"
   ]
  },
  {
   "cell_type": "code",
   "execution_count": 60,
   "metadata": {},
   "outputs": [
    {
     "data": {
      "text/plain": [
       "<AxesSubplot:title={'center':'Ride time'}>"
      ]
     },
     "execution_count": 60,
     "metadata": {},
     "output_type": "execute_result"
    },
    {
     "data": {
      "image/png": "[encoded data removed]",
      "text/plain": [
       "<Figure size 432x288 with 1 Axes>"
      ]
     },
     "metadata": {
      "needs_background": "light"
     },
     "output_type": "display_data"
    }
   ],
   "source": [
    "data.loc['time'].plot(title=\"Ride time\")"
   ]
  }
 ],
 "metadata": {
  "kernelspec": {
   "display_name": "Python 3",
   "language": "python",
   "name": "python3"
  },
  "language_info": {
   "codemirror_mode": {
    "name": "ipython",
    "version": 3
   },
   "file_extension": ".py",
   "mimetype": "text/x-python",
   "name": "python",
   "nbconvert_exporter": "python",
   "pygments_lexer": "ipython3",
   "version": "3.8.2"
  }
 },
 "nbformat": 4,
 "nbformat_minor": 4
}
